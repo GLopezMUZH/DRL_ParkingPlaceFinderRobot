{
 "cells": [
  {
   "cell_type": "markdown",
   "metadata": {},
   "source": [
    "## Examples and tests GGG"
   ]
  },
  {
   "cell_type": "code",
   "execution_count": 1,
   "metadata": {},
   "outputs": [],
   "source": [
    "import rl_parkingplacefinder\n",
    "from rl_parkingplacefinder import *\n",
    "import matplotlib.pyplot as plt\n",
    "from rl_parkingplacefinder import Parking_lot\n",
    "from rl_parkingplacefinder.Parking_lot import Parking_Lot as Parking_Lot\n",
    "\n",
    "# alternative inserts \n",
    "import networkx as nx"
   ]
  },
  {
   "cell_type": "code",
   "execution_count": 2,
   "metadata": {},
   "outputs": [
    {
     "ename": "AttributeError",
     "evalue": "'Graph' object has no attribute 'Filling_Function_Parameters'",
     "output_type": "error",
     "traceback": [
      "\u001b[1;31m---------------------------------------------------------------------------\u001b[0m",
      "\u001b[1;31mAttributeError\u001b[0m                            Traceback (most recent call last)",
      "\u001b[1;32m<ipython-input-2-2c5efca07fd2>\u001b[0m in \u001b[0;36m<module>\u001b[1;34m\u001b[0m\n\u001b[1;32m----> 1\u001b[1;33m \u001b[0mffp\u001b[0m \u001b[1;33m=\u001b[0m \u001b[0mparking_lot\u001b[0m\u001b[1;33m.\u001b[0m\u001b[0mFilling_Function_Parameters\u001b[0m\u001b[1;33m(\u001b[0m\u001b[0muniform_distribution_p_value\u001b[0m \u001b[1;33m=\u001b[0m \u001b[1;36m0.5\u001b[0m\u001b[1;33m)\u001b[0m\u001b[1;33m\u001b[0m\u001b[1;33m\u001b[0m\u001b[0m\n\u001b[0m",
      "\u001b[1;31mAttributeError\u001b[0m: 'Graph' object has no attribute 'Filling_Function_Parameters'"
     ]
    }
   ],
   "source": [
    "ffp = Parking_lot.Filling_Function_Parameters(uniform_distribution_p_value = 0.5)"
   ]
  },
  {
   "cell_type": "code",
   "execution_count": null,
   "metadata": {},
   "outputs": [],
   "source": [
    "ldp = parking_lot.Lane_Direction_Parameters()"
   ]
  },
  {
   "cell_type": "code",
   "execution_count": null,
   "metadata": {},
   "outputs": [],
   "source": [
    "parking_lot = Parking_Lot(lane_direction_paramenters=ldp, \n",
    "                         filling_function_parameters=ffp, \n",
    "                         nr_parking_slots_per_lane=4,\n",
    "                         nr_parking_lanes=3, \n",
    "                         parking_lane_depth=1, \n",
    "                         debug=True,\n",
    "                         draw_graph = True,\n",
    "                         show_summary = True\n",
    "                        )"
   ]
  },
  {
   "cell_type": "code",
   "execution_count": null,
   "metadata": {},
   "outputs": [],
   "source": [
    "found_slot = -1\n",
    "agent = Park_Finder_Agent()\n",
    "found_slot = agent.find_parking(parking_lot)\n",
    "parking_lot.plot()"
   ]
  },
  {
   "cell_type": "markdown",
   "metadata": {},
   "source": [
    "To create the agent I added a new dictionary object with key \"ocuppation\" and possible values \"vacant\" and \"taken\" to each \"park\" node. "
   ]
  },
  {
   "cell_type": "code",
   "execution_count": null,
   "metadata": {},
   "outputs": [],
   "source": [
    "# Example for node found_slot, an occupied parking spot\n",
    "parking_lot.g.nodes[found_slot]"
   ]
  },
  {
   "cell_type": "code",
   "execution_count": null,
   "metadata": {},
   "outputs": [],
   "source": []
  }
 ],
 "metadata": {
  "kernelspec": {
   "display_name": "Python 3",
   "language": "python",
   "name": "python3"
  },
  "language_info": {
   "codemirror_mode": {
    "name": "ipython",
    "version": 3
   },
   "file_extension": ".py",
   "mimetype": "text/x-python",
   "name": "python",
   "nbconvert_exporter": "python",
   "pygments_lexer": "ipython3",
   "version": "3.7.5"
  }
 },
 "nbformat": 4,
 "nbformat_minor": 2
}
