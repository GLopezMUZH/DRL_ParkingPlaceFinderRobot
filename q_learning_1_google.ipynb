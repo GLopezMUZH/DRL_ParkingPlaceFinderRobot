{
  "nbformat": 4,
  "nbformat_minor": 0,
  "metadata": {
    "colab": {
      "name": "q_learning_1_google.ipynb",
      "provenance": [],
      "collapsed_sections": []
    },
    "kernelspec": {
      "name": "python3",
      "display_name": "Python 3"
    }
  },
  "cells": [
    {
      "cell_type": "code",
      "metadata": {
        "id": "nCtwt8i3RGUt",
        "colab_type": "code",
        "outputId": "e4540595-a937-4908-9520-afd8688ca87c",
        "colab": {
          "base_uri": "https://localhost:8080/",
          "height": 51
        }
      },
      "source": [
        "from google.colab import drive\n",
        "#drive.mount('/gdrive')\n",
        "drive.mount('/gdrive', force_remount=True)\n",
        "%cd /gdrive"
      ],
      "execution_count": 1,
      "outputs": [
        {
          "output_type": "stream",
          "text": [
            "Mounted at /gdrive\n",
            "/gdrive\n"
          ],
          "name": "stdout"
        }
      ]
    },
    {
      "cell_type": "code",
      "metadata": {
        "id": "NTqFaEy0XsNZ",
        "colab_type": "code",
        "colab": {
          "base_uri": "https://localhost:8080/",
          "height": 54
        },
        "outputId": "0d00026d-d7b3-4b3a-9881-66dc08987fdd"
      },
      "source": [
        "import sys\n",
        "sys.path.append('/gdrive/My Drive/Colab Notebooks/rl_parkingplacefinder')\n",
        "print(sys.path)"
      ],
      "execution_count": 2,
      "outputs": [
        {
          "output_type": "stream",
          "text": [
            "['', '/env/python', '/usr/lib/python36.zip', '/usr/lib/python3.6', '/usr/lib/python3.6/lib-dynload', '/usr/local/lib/python3.6/dist-packages', '/usr/lib/python3/dist-packages', '/usr/local/lib/python3.6/dist-packages/IPython/extensions', '/root/.ipython', '/gdrive/My Drive/Colab Notebooks/rl_parkingplacefinder']\n"
          ],
          "name": "stdout"
        }
      ]
    },
    {
      "cell_type": "code",
      "metadata": {
        "id": "pS04G35VX0h_",
        "colab_type": "code",
        "colab": {}
      },
      "source": [
        "import simple_q_learning\n",
        "from simple_q_learning import *\n",
        "\n",
        "import Parking_lot\n",
        "from Parking_lot import *\n",
        "from Park_Finder_Agent import Park_Finder_Agent\n",
        "from Park_Finder_Agent import Reward_Parameters\n",
        "\n"
      ],
      "execution_count": 0,
      "outputs": []
    },
    {
      "cell_type": "markdown",
      "metadata": {
        "id": "EmFQ6qtpMcZ7",
        "colab_type": "text"
      },
      "source": [
        "## Example 1. One agent learns one policy based on one entity of a parking lot with 50% uniformly  distributed filling-degree"
      ]
    },
    {
      "cell_type": "code",
      "metadata": {
        "id": "Kf6DIcZHSEbf",
        "colab_type": "code",
        "outputId": "594482f2-8a44-44e3-9fd9-92239362ce97",
        "colab": {
          "base_uri": "https://localhost:8080/",
          "height": 467
        }
      },
      "source": [
        "ffp = Parking_lot.Filling_Function_Parameters(uniform_distribution_p_value = 0.5)\n",
        "ldp = Parking_lot.Lane_Direction_Parameters()\n",
        "\n",
        "parking_environment = Parking_Lot(lane_direction_paramenters=ldp,\n",
        "                            filling_function_parameters=ffp,\n",
        "                            nr_parking_slots_per_lane=5,\n",
        "                            nr_parking_lanes=4,\n",
        "                            parking_lane_depth=2,\n",
        "                            debug=True,\n",
        "                            draw_graph = False,\n",
        "                            show_summary = False\n",
        "                            )\n",
        "\n",
        "parking_lot = parking_environment.get_env()\n",
        "reward_parameters = Reward_Parameters()\n",
        "lmp = Learning_Model_Parameters(episodes=55000)\n",
        "\n",
        "file_name_parking_lot_plot = 'qtables/parking_lot_'+ ffp.getName() +'_' + str(lmp.EPISODES) +'_' + str(datetime.today().strftime(\"%y-%m-%d %H %M %S\")) +'.png'\n",
        "parking_environment.plot(save_file=True, file_name_parking_lot_plot=file_name_parking_lot_plot)\n",
        "\n",
        "agent = Park_Finder_Agent(reward_parameters=reward_parameters, parking_environment=parking_environment)\n",
        "\n",
        "Q = {}\n",
        "for state in agent.stateSpacePlus:\n",
        "  for action in agent.possibleActions:\n",
        "    Q[state, action] = 0\n",
        "    \n",
        "Q_new = doLearning(agent=agent, parking_environment=parking_environment, Q=Q, lmp=lmp, save_frames=True)"
      ],
      "execution_count": 5,
      "outputs": [
        {
          "output_type": "stream",
          "text": [
            "/gdrive/My Drive/Colab Notebooks/rl_parkingplacefinder/Parking_lot.py:209: UserWarning: This figure includes Axes that are not compatible with tight_layout, so results might be incorrect.\n",
            "  plt.tight_layout()\n",
            "  0%|          | 63/55000 [00:00<01:28, 623.03it/s]"
          ],
          "name": "stderr"
        },
        {
          "output_type": "stream",
          "text": [
            "\n",
            "Start learning: 11-12-19 15 08 40 - nr episodes: 55000\n",
            "nr_occupied_parking_slots: 9\n",
            "best parking slot: 40\n",
            "best_walk_distance: 2\n"
          ],
          "name": "stdout"
        },
        {
          "output_type": "stream",
          "text": [
            "100%|██████████| 55000/55000 [00:57<00:00, 952.22it/s] \n"
          ],
          "name": "stderr"
        },
        {
          "output_type": "stream",
          "text": [
            "End learning: 11-12-19 15 09 38\n"
          ],
          "name": "stdout"
        },
        {
          "output_type": "display_data",
          "data": {
            "text/plain": [
              "<Figure size 432x288 with 0 Axes>"
            ]
          },
          "metadata": {
            "tags": []
          }
        },
        {
          "output_type": "display_data",
          "data": {
            "image/png": "[encoded data removed]",
            "text/plain": [
              "<Figure size 432x288 with 2 Axes>"
            ]
          },
          "metadata": {
            "tags": []
          }
        }
      ]
    },
    {
      "cell_type": "markdown",
      "metadata": {
        "id": "Pn457F21MuKi",
        "colab_type": "text"
      },
      "source": [
        "## TODO Multiagent multi-parking lot entity\n",
        "with this we generate several q-tables.... or... let's see if we do the meta-learning :D\n"
      ]
    }
  ]
}